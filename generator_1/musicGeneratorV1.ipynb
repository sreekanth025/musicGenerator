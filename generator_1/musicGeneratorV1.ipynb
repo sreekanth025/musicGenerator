{
  "nbformat": 4,
  "nbformat_minor": 0,
  "metadata": {
    "colab": {
      "name": "MusicGenerator.ipynb",
      "provenance": [],
      "collapsed_sections": []
    },
    "kernelspec": {
      "name": "python3",
      "display_name": "Python 3"
    },
    "accelerator": "TPU"
  },
  "cells": [
    {
      "cell_type": "code",
      "metadata": {
        "id": "y_-LRJ3sLd5T",
        "colab_type": "code",
        "outputId": "eec9156a-1a94-4868-fee8-f1f7361578a9",
        "colab": {
          "base_uri": "https://localhost:8080/",
          "height": 120
        }
      },
      "source": [
        "from google.colab import drive\n",
        "drive.mount('/content/drive')"
      ],
      "execution_count": 0,
      "outputs": [
        {
          "output_type": "stream",
          "text": [
            "Go to this URL in a browser: https://accounts.google.com/o/oauth2/auth?client_id=947318989803-6bn6qk8qdgf4n4g3pfee6491hc0brc4i.apps.googleusercontent.com&redirect_uri=urn%3aietf%3awg%3aoauth%3a2.0%3aoob&response_type=code&scope=email%20https%3a%2f%2fwww.googleapis.com%2fauth%2fdocs.test%20https%3a%2f%2fwww.googleapis.com%2fauth%2fdrive%20https%3a%2f%2fwww.googleapis.com%2fauth%2fdrive.photos.readonly%20https%3a%2f%2fwww.googleapis.com%2fauth%2fpeopleapi.readonly\n",
            "\n",
            "Enter your authorization code:\n",
            "··········\n",
            "Mounted at /content/drive\n"
          ],
          "name": "stdout"
        }
      ]
    },
    {
      "cell_type": "code",
      "metadata": {
        "id": "686K4UgVLVh-",
        "colab_type": "code",
        "outputId": "f88d02f7-262c-4fcc-e848-1acbb16a4932",
        "colab": {
          "base_uri": "https://localhost:8080/",
          "height": 33
        }
      },
      "source": [
        "import mido\n",
        "from mido import MidiFile, MidiTrack, Message\n",
        "from keras.layers import LSTM, Dense, Activation, Dropout, Flatten\n",
        "from keras.preprocessing import sequence\n",
        "from keras.models import Sequential\n",
        "from keras.optimizers import Adam \n",
        "from keras.callbacks import ModelCheckpoint \n",
        "from sklearn.preprocessing import MinMaxScaler \n",
        "import numpy as np"
      ],
      "execution_count": 0,
      "outputs": [
        {
          "output_type": "stream",
          "text": [
            "Using TensorFlow backend.\n"
          ],
          "name": "stderr"
        }
      ]
    },
    {
      "cell_type": "code",
      "metadata": {
        "id": "9cX_RKWeNHnH",
        "colab_type": "code",
        "colab": {}
      },
      "source": [
        "#Read midi File \n",
        "mid = MidiFile('/content/drive/My Drive/MusicGeneration/Nintendo_-_Pokemon_Fire_Red_Route_1_Piano_Cover_Hard_Version.mid')"
      ],
      "execution_count": 0,
      "outputs": []
    },
    {
      "cell_type": "code",
      "metadata": {
        "id": "WgQuDqeYNkyH",
        "colab_type": "code",
        "colab": {}
      },
      "source": [
        "notes = []\n",
        "for msg in mid:\n",
        "    if not msg.is_meta and msg.channel == 0 and msg.type == 'note_on':\n",
        "        data = msg.bytes()\n",
        "        notes.append(data[1])"
      ],
      "execution_count": 0,
      "outputs": []
    },
    {
      "cell_type": "code",
      "metadata": {
        "id": "jgVM38FAPN6Z",
        "colab_type": "code",
        "colab": {}
      },
      "source": [
        "scaler = MinMaxScaler(feature_range=(0,1))\n",
        "scaler.fit(np.array(notes).reshape(-1,1))\n",
        "notes = list(scaler.transform(np.array(notes).reshape(-1,1)))"
      ],
      "execution_count": 0,
      "outputs": []
    },
    {
      "cell_type": "code",
      "metadata": {
        "id": "B7vGI8lWSUMi",
        "colab_type": "code",
        "colab": {}
      },
      "source": [
        "notes = [list(note) for note in notes]\n",
        "\n",
        "X = []\n",
        "y = []\n",
        "n_prev = 30\n",
        "for i in range(len(notes)-n_prev):\n",
        "    X.append(notes[i:i+n_prev])\n",
        "    y.append(notes[i+n_prev])\n",
        "\n",
        "X_test = X[-300:]\n",
        "X = X[:-300]\n",
        "y = y[:-300]"
      ],
      "execution_count": 0,
      "outputs": []
    },
    {
      "cell_type": "code",
      "metadata": {
        "id": "kq0NAIdzSyOZ",
        "colab_type": "code",
        "outputId": "f8dd7638-56a8-49ea-b8f6-b901f1edb496",
        "colab": {
          "base_uri": "https://localhost:8080/",
          "height": 70
        }
      },
      "source": [
        "model = Sequential()\n",
        "model.add(LSTM(256, input_shape=(n_prev, 1), return_sequences=True))\n",
        "model.add(Dropout(0.6))\n",
        "model.add(LSTM(128, input_shape=(n_prev, 1), return_sequences=True))\n",
        "model.add(Dropout(0.6))\n",
        "model.add(LSTM(64, input_shape=(n_prev, 1), return_sequences=False))\n",
        "model.add(Dropout(0.6))\n",
        "model.add(Dense(1))\n",
        "model.add(Activation('linear'))\n",
        "optimizer = Adam(lr=0.001)\n",
        "model.compile(loss='mse', optimizer=optimizer)"
      ],
      "execution_count": 0,
      "outputs": [
        {
          "output_type": "stream",
          "text": [
            "WARNING:tensorflow:Large dropout rate: 0.6 (>0.5). In TensorFlow 2.x, dropout() uses dropout rate instead of keep_prob. Please ensure that this is intended.\n",
            "WARNING:tensorflow:Large dropout rate: 0.6 (>0.5). In TensorFlow 2.x, dropout() uses dropout rate instead of keep_prob. Please ensure that this is intended.\n"
          ],
          "name": "stdout"
        }
      ]
    },
    {
      "cell_type": "code",
      "metadata": {
        "id": "x8_tLHa6VAVK",
        "colab_type": "code",
        "outputId": "a70ec47b-21d4-4095-b0e0-5e5f001d4edf",
        "colab": {
          "base_uri": "https://localhost:8080/",
          "height": 368
        }
      },
      "source": [
        "model.fit(np.array(X), np.array(y), 32, 10, verbose=1)"
      ],
      "execution_count": 0,
      "outputs": [
        {
          "output_type": "stream",
          "text": [
            "Epoch 1/10\n",
            "12770/12770 [==============================] - 72s 6ms/step - loss: 0.0520\n",
            "Epoch 2/10\n",
            "12770/12770 [==============================] - 72s 6ms/step - loss: 0.0471\n",
            "Epoch 3/10\n",
            "12770/12770 [==============================] - 71s 6ms/step - loss: 0.0451\n",
            "Epoch 4/10\n",
            "12770/12770 [==============================] - 72s 6ms/step - loss: 0.0417\n",
            "Epoch 5/10\n",
            "12770/12770 [==============================] - 72s 6ms/step - loss: 0.0345\n",
            "Epoch 6/10\n",
            "12770/12770 [==============================] - 72s 6ms/step - loss: 0.0276\n",
            "Epoch 7/10\n",
            "12770/12770 [==============================] - 72s 6ms/step - loss: 0.0242\n",
            "Epoch 8/10\n",
            "12770/12770 [==============================] - 72s 6ms/step - loss: 0.0219\n",
            "Epoch 9/10\n",
            "12770/12770 [==============================] - 72s 6ms/step - loss: 0.0204\n",
            "Epoch 10/10\n",
            "12770/12770 [==============================] - 72s 6ms/step - loss: 0.0175\n"
          ],
          "name": "stdout"
        },
        {
          "output_type": "execute_result",
          "data": {
            "text/plain": [
              "<keras.callbacks.History at 0x7fb724f5b6d8>"
            ]
          },
          "metadata": {
            "tags": []
          },
          "execution_count": 11
        }
      ]
    },
    {
      "cell_type": "code",
      "metadata": {
        "id": "r2x3_eCbVTdH",
        "colab_type": "code",
        "colab": {}
      },
      "source": [
        "prediction = model.predict(np.array(X_test))\n",
        "prediction = np.squeeze(prediction)\n",
        "prediction = np.squeeze(scaler.inverse_transform(prediction.reshape(-1,1)))\n",
        "prediction = [int(i) for i in prediction]"
      ],
      "execution_count": 0,
      "outputs": []
    },
    {
      "cell_type": "code",
      "metadata": {
        "id": "oiAJrKbhd553",
        "colab_type": "code",
        "colab": {}
      },
      "source": [
        "mid = MidiFile()\n",
        "track = MidiTrack()\n",
        "t = 0\n",
        "for note in prediction:\n",
        "    #147 --> note_on\n",
        "    #67 -> velocity\n",
        "    note = np.asarray([147, note, 67])\n",
        "    bytes = note.astype(int)\n",
        "    msg = Message.from_bytes(bytes[0:3])\n",
        "    t += 1\n",
        "    msg.time = t\n",
        "    track.append(msg)\n",
        "mid.tracks.append(track)\n",
        "mid.save('LSTM_music.mid')"
      ],
      "execution_count": 0,
      "outputs": []
    },
    {
      "cell_type": "code",
      "metadata": {
        "id": "zM7t0iOte6R8",
        "colab_type": "code",
        "colab": {}
      },
      "source": [
        "from google.colab import files\n",
        "files.download('LSTM_music.mid')"
      ],
      "execution_count": 0,
      "outputs": []
    }
  ]
}